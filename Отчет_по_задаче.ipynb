{
 "cells": [
  {
   "cell_type": "markdown",
   "id": "fd77e57a",
   "metadata": {},
   "source": [
    "# Отчет по заданию"
   ]
  },
  {
   "cell_type": "markdown",
   "id": "1d0469b4",
   "metadata": {},
   "source": [
    "## Задание: \n",
    "<br/>\n",
    "\n",
    "***Создать дашборд по звонкам в CallCenter***\n",
    "\n",
    "<br/>\n",
    "Пример визуализации Dashboard:\n",
    "<br/>\n",
    "\n",
    "![001.png](pics/001.png)\n",
    "![002.png](pics/002.png)\n",
    "\n",
    "<br/>\n",
    "\n",
    "***Витрина данных:*** файл SLA_CONTACT_CENTRE.csv\n",
    "\n",
    "***Описание витрины:***\n",
    "\n",
    "№ | Наименование | Описание\n",
    ":-|:-------------|:---------\n",
    "1 | REPORT       | Тип телефонии с агрегацией. Например, Avaya By 15min – тип Avaya с разбивкой 15 минут\n",
    "2 | DT           | Отчетная дата\n",
    "3 | LD      | Дата загрузки в Хранилище данных\n",
    "4 | DTTM | Дата и время периода агрегации\n",
    "5 | SKILL_NM | Наименование скилла\n",
    "6 | CALLS | Количество звонков\n",
    "7 | ACCEPTED_CALLS | Количество принятых звонков\n",
    "8 | RESET_CALLS | Количество непринятых звонков\n",
    "9 | SLA | Нагрузка на операторов\n",
    "10 | MAX_CALL_DT | Максимальное время звонка\n",
    "\n",
    "***Параметры дашборда:***\n",
    "\n",
    "1)\tОтчетная дата (DT) – дата, на которую формируется отчет\n",
    "\n",
    "***Блок Актуальность данных:***\n",
    "\n",
    "1)\tТелефония (Avaya и/или GENESYS)\n",
    "2)\tМаксимальное время звонка (MAX_CALL_DT)\n",
    "3)\tВремя загрузки данных по звонкам в Хранилище данных (LD)\n",
    "4)\tОтставание в минутах: разница от текущего времени и максимального времени звонка (пункт 2)\n",
    "\n",
    "***Блок Отчетная дата*** – текущая дата формирования отчета из фильтра\n",
    "\n",
    "***Блок Объем входящих звонков*** – общее количество звонков\n",
    "\n",
    "***Блок SLA первый ответ в %*** (SLA)\n",
    "\n",
    "***Блок количество непринятых звонков*** (RESET_CALLS)\n",
    "\n",
    "***Блок SLA КЦ*** – график  с отображением объема звонков и нагрузки на операторов  за последние два дня (от отчетной даты).\n",
    "\n",
    "***Блок Calls By Skills by Hour*** – объем звонков в разрезе скиллов по часам за текущие сутки (отчетная дата).\n",
    "\n",
    "\n",
    "\n",
    "## Решение Задания:\n",
    "<br/>\n",
    "Создаю базу, таблицу, и наполню их данными:\n",
    "\n",
    "``` mysql\n",
    "CREATE DATABASE IF NOT EXISTS ccenter;\n",
    "\n",
    "CREATE TABLE ccenter.sla_contact_center\n",
    "(\n",
    "REPORT String,\n",
    "DT Date,\n",
    "LD DateTime64,\n",
    "DTTM DateTime64,\n",
    "SKILL_NM String,\n",
    "CALLS Int64,\n",
    "ACCEPTED_CALLS Int64,\n",
    "RESET_CALLS Int64,\n",
    "SLA Float64,\n",
    "MAX_CALL_DT Nullable(DateTime64)\n",
    ") ENGINE = MergeTree ORDER BY (SKILL_NM) SETTINGS index_granularity = 8192;\n",
    "```\n",
    "<br/>\n",
    "<br/>\n",
    "Данные из CSV файла оказались немного разноформатными. Поэтому их надо было причесать. Для этого я использовал следующий код:"
   ]
  },
  {
   "cell_type": "code",
   "execution_count": 3,
   "id": "5897636f",
   "metadata": {},
   "outputs": [
    {
     "name": "stderr",
     "output_type": "stream",
     "text": [
      "/var/folders/xf/23jw26zs7r37__lj3ydbh14h0000gn/T/ipykernel_3259/2964235819.py:1: DeprecationWarning: Importing display from IPython.core.display is deprecated since IPython 7.14, please import from IPython display\n",
      "  from IPython.core.display import display, HTML\n"
     ]
    },
    {
     "data": {
      "text/html": [
       "<style>.container { width:100% !important; }</style>"
      ],
      "text/plain": [
       "<IPython.core.display.HTML object>"
      ]
     },
     "metadata": {},
     "output_type": "display_data"
    },
    {
     "data": {
      "text/plain": [
       "REPORT                    object\n",
       "DT                datetime64[ns]\n",
       "LD                datetime64[ns]\n",
       "DTTM              datetime64[ns]\n",
       "SKILL_NM                  object\n",
       "CALLS                      int64\n",
       "ACCEPTED_CALLS             int64\n",
       "RESET_CALLS                int64\n",
       "SLA                      float64\n",
       "MAX_CALL_DT       datetime64[ns]\n",
       "dtype: object"
      ]
     },
     "metadata": {},
     "output_type": "display_data"
    },
    {
     "data": {
      "text/html": [
       "<div>\n",
       "<style scoped>\n",
       "    .dataframe tbody tr th:only-of-type {\n",
       "        vertical-align: middle;\n",
       "    }\n",
       "\n",
       "    .dataframe tbody tr th {\n",
       "        vertical-align: top;\n",
       "    }\n",
       "\n",
       "    .dataframe thead th {\n",
       "        text-align: right;\n",
       "    }\n",
       "</style>\n",
       "<table border=\"1\" class=\"dataframe\">\n",
       "  <thead>\n",
       "    <tr style=\"text-align: right;\">\n",
       "      <th></th>\n",
       "      <th>REPORT</th>\n",
       "      <th>DT</th>\n",
       "      <th>LD</th>\n",
       "      <th>DTTM</th>\n",
       "      <th>SKILL_NM</th>\n",
       "      <th>CALLS</th>\n",
       "      <th>ACCEPTED_CALLS</th>\n",
       "      <th>RESET_CALLS</th>\n",
       "      <th>SLA</th>\n",
       "      <th>MAX_CALL_DT</th>\n",
       "    </tr>\n",
       "  </thead>\n",
       "  <tbody>\n",
       "    <tr>\n",
       "      <th>0</th>\n",
       "      <td>Avaya By Day</td>\n",
       "      <td>2021-05-06</td>\n",
       "      <td>2021-09-09 17:43:00</td>\n",
       "      <td>2021-05-06 00:00:00</td>\n",
       "      <td>Itogo</td>\n",
       "      <td>52218</td>\n",
       "      <td>52008</td>\n",
       "      <td>210</td>\n",
       "      <td>0.962801</td>\n",
       "      <td>2021-05-06 23:58:51</td>\n",
       "    </tr>\n",
       "    <tr>\n",
       "      <th>1</th>\n",
       "      <td>Genesys By Day</td>\n",
       "      <td>2021-05-06</td>\n",
       "      <td>2021-08-05 23:59:00</td>\n",
       "      <td>2021-05-06 00:00:00</td>\n",
       "      <td>Itogo</td>\n",
       "      <td>367</td>\n",
       "      <td>367</td>\n",
       "      <td>0</td>\n",
       "      <td>1.000000</td>\n",
       "      <td>2021-05-06 08:18:21</td>\n",
       "    </tr>\n",
       "    <tr>\n",
       "      <th>2</th>\n",
       "      <td>Total By 15min</td>\n",
       "      <td>2021-05-06</td>\n",
       "      <td>2021-09-09 18:17:00</td>\n",
       "      <td>2021-05-06 08:30:00</td>\n",
       "      <td>Itogo</td>\n",
       "      <td>727</td>\n",
       "      <td>727</td>\n",
       "      <td>0</td>\n",
       "      <td>1.000000</td>\n",
       "      <td>2021-05-06 08:44:59</td>\n",
       "    </tr>\n",
       "  </tbody>\n",
       "</table>\n",
       "</div>"
      ],
      "text/plain": [
       "           REPORT         DT                  LD                DTTM SKILL_NM  CALLS  ACCEPTED_CALLS  RESET_CALLS       SLA         MAX_CALL_DT\n",
       "0    Avaya By Day 2021-05-06 2021-09-09 17:43:00 2021-05-06 00:00:00    Itogo  52218           52008          210  0.962801 2021-05-06 23:58:51\n",
       "1  Genesys By Day 2021-05-06 2021-08-05 23:59:00 2021-05-06 00:00:00    Itogo    367             367            0  1.000000 2021-05-06 08:18:21\n",
       "2  Total By 15min 2021-05-06 2021-09-09 18:17:00 2021-05-06 08:30:00    Itogo    727             727            0  1.000000 2021-05-06 08:44:59"
      ]
     },
     "execution_count": 3,
     "metadata": {},
     "output_type": "execute_result"
    }
   ],
   "source": [
    "from IPython.core.display import display, HTML\n",
    "display(HTML(\"<style>.container { width:100% !important; }</style>\"))\n",
    "pd.options.display.expand_frame_repr = False\n",
    "pd.options.display.max_columns = None # display(df)\n",
    "pd.options.display.max_rows = None\n",
    "pd.options.display.min_rows = None\n",
    "\n",
    "import pandas as pd\n",
    "from clickhouse_driver import Client\n",
    "\n",
    "df = pd.read_csv('./SLA_CONTACT_CENTRE.csv', sep=';')\n",
    "\n",
    "df['DT'] = pd.to_datetime(df['DT'])\n",
    "df['LD'] = pd.to_datetime(df['LD'])\n",
    "df['DTTM'] = pd.to_datetime(df['DTTM'])\n",
    "df['MAX_CALL_DT'] = df['MAX_CALL_DT'].fillna(0)\n",
    "df['MAX_CALL_DT'] = pd.to_datetime(df['MAX_CALL_DT'])\n",
    "df['REPORT'] = df['REPORT'].astype(str)\n",
    "df['SKILL_NM'] = df['SKILL_NM'].astype(str)\n",
    "df['SLA'] = pd.to_numeric(df['SLA'].str.replace(\"[,]\", \".\", regex=True),errors='coerce')\n",
    "display(df.dtypes)\n",
    "df.head(3)"
   ]
  },
  {
   "cell_type": "code",
   "execution_count": 2,
   "id": "0e372263",
   "metadata": {},
   "outputs": [
    {
     "data": {
      "text/plain": [
       "2621"
      ]
     },
     "execution_count": 2,
     "metadata": {},
     "output_type": "execute_result"
    }
   ],
   "source": [
    "client = Client('10.8.10.119',\n",
    "                database='ccenter',\n",
    "                user='default'\n",
    "                )\n",
    "client.execute(\"INSERT INTO sla_contact_center VALUES\", df.to_dict('records'))"
   ]
  },
  {
   "cell_type": "code",
   "execution_count": 4,
   "id": "877f4c34",
   "metadata": {},
   "outputs": [
    {
     "name": "stderr",
     "output_type": "stream",
     "text": [
      "/Users/dmitrijkarpuhin/opt/anaconda3/lib/python3.8/site-packages/IPython/core/display.py:419: UserWarning: Consider using IPython.display.IFrame instead\n",
      "  warnings.warn(\"Consider using IPython.display.IFrame instead\")\n"
     ]
    },
    {
     "data": {
      "text/html": [
       "<iframe width=\"560\" height=\"315\" src=\"https://www.youtube.com/embed/S_f2qV2_U00?rel=0&amp;controls=0&amp;showinfo=0\" frameborder=\"0\" allowfullscreen></iframe>"
      ],
      "text/plain": [
       "<IPython.core.display.HTML object>"
      ]
     },
     "execution_count": 4,
     "metadata": {},
     "output_type": "execute_result"
    }
   ],
   "source": [
    "from IPython.display import HTML\n",
    "\n",
    "# Youtube\n",
    "HTML('<iframe width=\"560\" height=\"315\" src=\"https://www.youtube.com/embed/S_f2qV2_U00?rel=0&amp;controls=0&amp;showinfo=0\" frameborder=\"0\" allowfullscreen></iframe>')\n"
   ]
  },
  {
   "cell_type": "code",
   "execution_count": null,
   "id": "5a6d7799",
   "metadata": {},
   "outputs": [],
   "source": []
  },
  {
   "cell_type": "code",
   "execution_count": null,
   "id": "9e7ebb73",
   "metadata": {},
   "outputs": [],
   "source": [
    "<br/>\n",
    "<br/>\n",
    "\n",
    "<br/>\n",
    "<br/>\n",
    "Результирующая таблица на скрине внизу:\n",
    "<br/>\n",
    "\n",
    "![01.png](pics/01.png)"
   ]
  }
 ],
 "metadata": {
  "celltoolbar": "Raw Cell Format",
  "kernelspec": {
   "display_name": "Python 3 (ipykernel)",
   "language": "python",
   "name": "python3"
  },
  "language_info": {
   "codemirror_mode": {
    "name": "ipython",
    "version": 3
   },
   "file_extension": ".py",
   "mimetype": "text/x-python",
   "name": "python",
   "nbconvert_exporter": "python",
   "pygments_lexer": "ipython3",
   "version": "3.8.2"
  }
 },
 "nbformat": 4,
 "nbformat_minor": 5
}
